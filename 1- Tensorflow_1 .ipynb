{
 "cells": [
  {
   "cell_type": "code",
   "execution_count": 1,
   "metadata": {},
   "outputs": [
    {
     "name": "stdout",
     "output_type": "stream",
     "text": [
      "WARNING:tensorflow:From C:\\Users\\Alhou\\AppData\\Local\\Temp\\ipykernel_9936\\3545317098.py:5: The name tf.keras.backend.get_session is deprecated. Please use tf.compat.v1.keras.backend.get_session instead.\n",
      "\n",
      "5\n",
      "Tensor(\"Const:0\", shape=(), dtype=int32)\n",
      "========================================\n",
      "The Value Of Constant1 Is ==>  10\n",
      "The Value Of Constant2 Is ==>  11\n",
      "The Value Of Constant3 Is ==>  21\n",
      "The Value Of Constant4 Is ==>  210\n"
     ]
    }
   ],
   "source": [
    "#First ==> How To Make Session\n",
    "import tensorflow as tf      \n",
    "tf.compat.v1.disable_eager_execution()\n",
    "#sess= tf.Session()\n",
    "sess=tf.compat.v1.keras.backend.get_session()\n",
    "b=tf.constant(5)\n",
    "print(sess.run(b))\n",
    "print(b)#Tensor(\"Const_1:0\", shape=(), dtype=int32)\n",
    "sess.close()\n",
    "#Second Type From write a session \n",
    "#with tf.compat.v1.Session():\n",
    "print('=='*20)\n",
    "c1=tf.constant(10)\n",
    "c2=tf.constant(11)\n",
    "c3=(c1+c2)\n",
    "c4 =c1 * c3 \n",
    "with tf.compat.v1.Session() as sess:\n",
    "    print('The Value Of Constant1 Is ==> ',sess.run(c1))\n",
    "    print('The Value Of Constant2 Is ==> ',sess.run(c2))\n",
    "    print('The Value Of Constant3 Is ==> ',c3.eval())\n",
    "    print('The Value Of Constant4 Is ==> ',c4.eval())\n",
    "sess.close()"
   ]
  },
  {
   "cell_type": "code",
   "execution_count": 18,
   "metadata": {},
   "outputs": [
    {
     "name": "stdout",
     "output_type": "stream",
     "text": [
      "The Constant A Is ==>  4\n",
      "The Constant B Is ==>  4.0\n",
      "The Constant C Is ==>  [10 15 20 17  2]\n",
      "The Constant D Is ==>  [[ 1  2  4  5]\n",
      " [ 7  8  9 10]\n",
      " [15 20 22 30]]\n",
      "The Constant E Is ==>  b'My Name Is Alhousainy & Iam a Deep Learning Engineer & I work at ISFP Company'\n"
     ]
    }
   ],
   "source": [
    "#Second Create Constant \n",
    "import tensorflow as tf\n",
    "tf.compat.v1.disable_eager_execution()\n",
    "a=tf.constant(4)\n",
    "b=tf.constant(4,tf.float32)\n",
    "c=tf.constant([10,15,20,17,2])\n",
    "d=tf.constant([[1,2,4,5],[7,8,9,10],[15,20,22,30]])\n",
    "e=tf.constant('My Name Is Alhousainy & Iam a Deep Learning Engineer & I work at ISFP Company')\n",
    "with tf.compat.v1.Session() as sess:\n",
    "    print('The Constant A Is ==> ',sess.run(a))\n",
    "    print('The Constant B Is ==> ',sess.run(b))\n",
    "    print('The Constant C Is ==> ',sess.run(c))\n",
    "    print('The Constant D Is ==> ',sess.run(d))\n",
    "    print('The Constant E Is ==> ',sess.run(e))\n",
    "sess.close()    "
   ]
  },
  {
   "cell_type": "code",
   "execution_count": 6,
   "metadata": {},
   "outputs": [
    {
     "name": "stdout",
     "output_type": "stream",
     "text": [
      "The Value Of Variable C1 Is ==>  4\n",
      "The Value Of Variable C2 Is ==>  4\n",
      "The Value Of Variable C3 Is ==>  [10 15 20 17  2]\n",
      "The Value Of Variable C4 Is ==>  [[ 1  2  4  5]\n",
      " [ 7  8  9 10]\n",
      " [15 20 22 30]]\n",
      "The Value Of Variable C5 Is ==>  b'My Name Is Alhousainy & Iam a Deep Learning Engineer & I work at ISFP Company'\n",
      "******************************************************************************************\n",
      "40\n",
      "30\n",
      "60\n",
      "The New Value Of Variable Using Asign Is ==>  150\n",
      "250\n",
      "******************************************************************************************************************************************************\n",
      "The Last Price Is ==>  250\n",
      "0 ==> The New Price Is ==>  260\n",
      "1 ==> The New Price Is ==>  280\n",
      "2 ==> The New Price Is ==>  310\n",
      "3 ==> The New Price Is ==>  350\n",
      "4 ==> The New Price Is ==>  400\n",
      "5 ==> The New Price Is ==>  460\n",
      "6 ==> The New Price Is ==>  530\n"
     ]
    }
   ],
   "source": [
    "#Third Type => Create A Variables \n",
    "import tensorflow as tf\n",
    "tf.compat.v1.disable_eager_execution()\n",
    "c1=tf.Variable(4)\n",
    "c2=tf.Variable(4,tf.float32)\n",
    "c3=tf.Variable([10,15,20,17,2])\n",
    "c4=tf.Variable([[1,2,4,5],[7,8,9,10],[15,20,22,30]])\n",
    "c5=tf.Variable('My Name Is Alhousainy & Iam a Deep Learning Engineer & I work at ISFP Company')\n",
    "with tf.compat.v1.Session() as sess:\n",
    "    sess.run(tf.compat.v1.global_variables_initializer())\n",
    "    print('The Value Of Variable C1 Is ==> ',sess.run(c1))\n",
    "    print('The Value Of Variable C2 Is ==> ',sess.run(c2))\n",
    "    print('The Value Of Variable C3 Is ==> ',sess.run(c3))\n",
    "    print('The Value Of Variable C4 Is ==> ',sess.run(c4))\n",
    "    print('The Value Of Variable C5 Is ==> ',sess.run(c5))\n",
    "sess.close() \n",
    "print('***'*30)\n",
    "#Change Variable by using the same variable \n",
    "S1=tf.compat.v1.keras.backend.get_session()\n",
    "price=tf.Variable(40)\n",
    "#var=tf.compat.v1.global_variables_initializer()\n",
    "S1.run(tf.compat.v1.global_variables_initializer())\n",
    "print(S1.run(price)) \n",
    "#============================================================= \n",
    "price=tf.Variable(30)\n",
    "S1.run(tf.compat.v1.global_variables_initializer())\n",
    "print(S1.run(price))\n",
    "#=============================================================\n",
    "price=tf.Variable(60)\n",
    "S1.run(tf.compat.v1.global_variables_initializer())\n",
    "print(S1.run(price))\n",
    "#Change Value Of Variable Another Method Using Assign But Not Use The Same Name Of Variable \n",
    "value = tf.compat.v1.assign(price,150)\n",
    "print('The New Value Of Variable Using Asign Is ==> ',S1.run(value))#The New Value Of Variable Using Asign Is ==>  150\n",
    "value2 = tf.compat.v1.assign(price,250)\n",
    "print(S1.run(value2))\n",
    "print('***'*50)\n",
    "print('The Last Price Is ==> ',S1.run(value2))\n",
    "for j in range(7):\n",
    "    price=tf.compat.v1.assign(price,price+10)\n",
    "    print(j,'==> The New Price Is ==> ',S1.run(price))"
   ]
  },
  {
   "cell_type": "code",
   "execution_count": 16,
   "metadata": {},
   "outputs": [
    {
     "name": "stdout",
     "output_type": "stream",
     "text": [
      "The Value Of A After Using PlaceHolder Is ==>  5.0\n",
      "************************************************************************************************************************\n",
      "The Final Result After num1 * num2 Is ==>  15.0\n",
      "************************************************************************************************************************\n",
      "The Final Result Is ==>  6951.0\n",
      "******************************************************************************************************************************************************\n",
      "The Final Result Is ==>  1769.75\n"
     ]
    }
   ],
   "source": [
    "#Fourth Type ==> Placeholder\n",
    "import tensorflow as tf  \n",
    "tf.compat.v1.disable_eager_execution()\n",
    "S2=tf.compat.v1.keras.backend.get_session()\n",
    "a=tf.compat.v1.placeholder(tf.float32)\n",
    "with tf.compat.v1.Session() as S3 :\n",
    "    result=S3.run(a , feed_dict={a:5})\n",
    "    print('The Value Of A After Using PlaceHolder Is ==> ',result)\n",
    "S2.close()\n",
    "print('***'*40)\n",
    "#Another Example \n",
    "S3=tf.compat.v1.keras.backend.get_session()\n",
    "num1 = tf.compat.v1.placeholder(tf.float32)\n",
    "num2 = num1 * 3\n",
    "with tf.compat.v1.Session() as S4 :\n",
    "    result1 = S4.run(num2, feed_dict={num1:5})\n",
    "    print('The Final Result After num1 * num2 Is ==> ',result1)\n",
    "S4.close()\n",
    "print('***'*40)\n",
    "#Another Example \n",
    "S5=tf.compat.v1.keras.backend.get_session()\n",
    "n1=tf.compat.v1.placeholder(tf.float32)\n",
    "n2=tf.compat.v1.placeholder(tf.float32)\n",
    "n3=tf.compat.v1.placeholder(tf.float32)\n",
    "n4=tf.compat.v1.placeholder(tf.float32)\n",
    "result3 = n1 * 2 + 4 * n2 **3 + 12/n3 + n4 + 15\n",
    "with tf.compat.v1.Session() as S5 :\n",
    "    result4 = S5.run(result3 , feed_dict={n1:5 ,n2:12,n3:2,n4:8})\n",
    "    print('The Final Result Is ==> ',result4)\n",
    "S5.close()\n",
    "print('***'*50)\n",
    "#Another Example using constant & Placeholder\n",
    "var1 = tf.compat.v1.placeholder(tf.float32)\n",
    "var2 = tf.compat.v1.placeholder(tf.float32)\n",
    "var3=  tf.compat.v1.placeholder(tf.float32)\n",
    "var4 = tf.constant(10,tf.float32)\n",
    "var5 = tf.constant(15,tf.float32)\n",
    "result5 = var1 * 2 + 5 * var2 **3 + var3 *2.5 + var4 + var5\n",
    "with tf.compat.v1.Session() as S6:\n",
    "    result6 = S6.run(result5,feed_dict={var1:5,var2:7,var3:7.9})\n",
    "    print('The Final Result Is ==> ',result6)\n",
    "S6.close()"
   ]
  },
  {
   "cell_type": "code",
   "execution_count": 24,
   "metadata": {},
   "outputs": [
    {
     "name": "stdout",
     "output_type": "stream",
     "text": [
      "The Final R?esult Is ==>  [  4.  16.  25.  36. 100. 400. 900.]\n",
      "****************************************************************************************************\n",
      "The Final Result Is ==>  [  125.   216.   343.   512.   729.  1000.  1331.  1728.  2197.  2744.\n",
      "  3375.  4096.  4913.  5832.  6859.  8000.  9261. 10648. 12167. 13824.\n",
      " 15625. 17576. 19683. 21952. 24389. 27000. 29791. 32768. 35937. 39304.]\n",
      "****************************************************************************************************\n"
     ]
    }
   ],
   "source": [
    "import tensorflow as tf      \n",
    "num1 = tf.compat.v1.placeholder(tf.float32)\n",
    "result1 = num1 ** 2\n",
    "with tf.compat.v1.Session() as S1 :\n",
    "    result = S1.run(result1,feed_dict={num1:[2,4,5,6,10,20,30]})\n",
    "    print('The Final R?esult Is ==> ',result)\n",
    "S1.close()\n",
    "print('**'*50)\n",
    "#Another Example \n",
    "result2 = num1 ** 3\n",
    "with tf.compat.v1.Session() as S2:\n",
    "    result = S2.run(result2,feed_dict={num1:list(range(5,35))})\n",
    "    print('The Final Result Is ==> ',result)\n",
    "S2.close()\n",
    "print('**'*50)"
   ]
  },
  {
   "cell_type": "code",
   "execution_count": 25,
   "metadata": {},
   "outputs": [
    {
     "name": "stdout",
     "output_type": "stream",
     "text": [
      "The Final Result Is ==>  [22. 32. 42. 52.]\n",
      "******************************************************************************************************************************************************\n",
      "The Final Result Is ==>  [  32.   37.   42.   47.   52.   57.   62.   67.   72.   77.   82.   87.\n",
      "   92.   97.  102.  107.  112.  117.  122.  127.  132.  137.  142.  147.\n",
      "  152.  157.  162.  167.  172.  177.  182.  187.  192.  197.  202.  207.\n",
      "  212.  217.  222.  227.  232.  237.  242.  247.  252.  257.  262.  267.\n",
      "  272.  277.  282.  287.  292.  297.  302.  307.  312.  317.  322.  327.\n",
      "  332.  337.  342.  347.  352.  357.  362.  367.  372.  377.  382.  387.\n",
      "  392.  397.  402.  407.  412.  417.  422.  427.  432.  437.  442.  447.\n",
      "  452.  457.  462.  467.  472.  477.  482.  487.  492.  497.  502.  507.\n",
      "  512.  517.  522.  527.  532.  537.  542.  547.  552.  557.  562.  567.\n",
      "  572.  577.  582.  587.  592.  597.  602.  607.  612.  617.  622.  627.\n",
      "  632.  637.  642.  647.  652.  657.  662.  667.  672.  677.  682.  687.\n",
      "  692.  697.  702.  707.  712.  717.  722.  727.  732.  737.  742.  747.\n",
      "  752.  757.  762.  767.  772.  777.  782.  787.  792.  797.  802.  807.\n",
      "  812.  817.  822.  827.  832.  837.  842.  847.  852.  857.  862.  867.\n",
      "  872.  877.  882.  887.  892.  897.  902.  907.  912.  917.  922.  927.\n",
      "  932.  937.  942.  947.  952.  957.  962.  967.  972.  977.  982.  987.\n",
      "  992.  997. 1002.]\n"
     ]
    }
   ],
   "source": [
    "#Sample Example About Today Session \n",
    "import tensorflow as tf     \n",
    "weights= tf.constant([5.0])\n",
    "bias = tf.Variable([7.0],tf.float32)\n",
    "x = tf.compat.v1.placeholder(tf.float32)\n",
    "LinearRegressionModel1 = weights * x + bias \n",
    "with tf.compat.v1.Session() as s :\n",
    "    s.run(tf.compat.v1.global_variables_initializer())\n",
    "    print('The Final Result Is ==> ',s.run(LinearRegressionModel1,{x:[3,5,7,9]}))\n",
    "s.close()\n",
    "#Another Example \n",
    "print('***'*50)\n",
    "#Sample Example About Today Session \n",
    "import tensorflow as tf     \n",
    "weights= tf.constant([5.0])\n",
    "bias = tf.Variable([7.0],tf.float32)\n",
    "x = tf.compat.v1.placeholder(tf.float32)\n",
    "LinearRegressionModel1 = weights * x + bias \n",
    "with tf.compat.v1.Session() as s1 :\n",
    "    s1.run(tf.compat.v1.global_variables_initializer())\n",
    "    print('The Final Result Is ==> ',s1.run(LinearRegressionModel1,{x:list(range(5,200))}))\n",
    "s1.close()"
   ]
  },
  {
   "cell_type": "code",
   "execution_count": null,
   "metadata": {},
   "outputs": [],
   "source": []
  }
 ],
 "metadata": {
  "kernelspec": {
   "display_name": "Python 3",
   "language": "python",
   "name": "python3"
  },
  "language_info": {
   "codemirror_mode": {
    "name": "ipython",
    "version": 3
   },
   "file_extension": ".py",
   "mimetype": "text/x-python",
   "name": "python",
   "nbconvert_exporter": "python",
   "pygments_lexer": "ipython3",
   "version": "3.10.0"
  },
  "orig_nbformat": 4,
  "vscode": {
   "interpreter": {
    "hash": "f14a256fa5d2abe453c482b40db541c720d938562dda362430172368847a78a4"
   }
  }
 },
 "nbformat": 4,
 "nbformat_minor": 2
}
