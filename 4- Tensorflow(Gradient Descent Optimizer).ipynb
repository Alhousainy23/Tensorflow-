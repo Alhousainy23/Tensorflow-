{
 "cells": [
  {
   "attachments": {},
   "cell_type": "markdown",
   "metadata": {},
   "source": [
    "## 1- First Sample Program"
   ]
  },
  {
   "cell_type": "code",
   "execution_count": 2,
   "metadata": {},
   "outputs": [
    {
     "name": "stdout",
     "output_type": "stream",
     "text": [
      "-0.49999997\n"
     ]
    }
   ],
   "source": [
    "import tensorflow as tf      \n",
    "#tf.compat.v1.disable_eager_execution()  \n",
    "tf.compat.v1.disable_eager_execution()\n",
    "#step 1 # Write Variable - Constant - PlaceHolder\n",
    "unknown_value = tf.Variable(0.0)\n",
    "num1=tf.constant(4.0)\n",
    "num2=tf.constant(2.0)\n",
    "num3 =tf.multiply(unknown_value,num1)\n",
    "#Step 2 ==> Write Equation \n",
    "equation=tf.add(num3,num2)\n",
    "#Step 3 ==> Detect and Write Cost Function \n",
    "zero_value = tf.constant(0,float)\n",
    "diff = tf.square(equation - zero_value)\n",
    "#=step 4 ==> Write Object by using GDO \n",
    "solving = tf.compat.v1.train.GradientDescentOptimizer(0.01).minimize(diff)\n",
    "init = tf.compat.v1.global_variables_initializer()\n",
    "with tf.compat.v1.Session() as sess:\n",
    "    sess.run(init)\n",
    "    for i in range (2000):\n",
    "        sess.run(solving)\n",
    "    print(sess.run(unknown_value))\n",
    "sess.close()"
   ]
  },
  {
   "attachments": {},
   "cell_type": "markdown",
   "metadata": {},
   "source": [
    "## 2- Another Example "
   ]
  },
  {
   "cell_type": "code",
   "execution_count": 3,
   "metadata": {},
   "outputs": [
    {
     "name": "stdout",
     "output_type": "stream",
     "text": [
      "4.999999\n"
     ]
    }
   ],
   "source": [
    "import tensorflow as tf \n",
    "tf.compat.v1.disable_eager_execution()\n",
    "unknown_value2 = tf.Variable(0.0)\n",
    "num1_1 = tf.constant(-10.0)\n",
    "num2_2 = tf.constant(50.0)\n",
    "num3_3 = tf.multiply(unknown_value2,num1_1)\n",
    "equation2= tf.add(num3_3,num2_2)\n",
    "zero_value1 = tf.constant(0,float)\n",
    "diff1 = tf.square(equation2 - zero_value1)\n",
    "solving_object = tf.compat.v1.train.GradientDescentOptimizer(0.001).minimize(diff1)\n",
    "init1 = tf.compat.v1.global_variables_initializer()\n",
    "with tf.compat.v1.Session() as ss:\n",
    "    ss.run(init1)\n",
    "    for i in range(1000):\n",
    "        ss.run(solving_object)\n",
    "    print(ss.run(unknown_value2))\n",
    "ss.close()"
   ]
  },
  {
   "attachments": {},
   "cell_type": "markdown",
   "metadata": {},
   "source": [
    "## 3 -  Example \n"
   ]
  },
  {
   "cell_type": "code",
   "execution_count": 4,
   "metadata": {},
   "outputs": [
    {
     "name": "stdout",
     "output_type": "stream",
     "text": [
      "The Value Of Solving Is ==>  0.0\n"
     ]
    }
   ],
   "source": [
    "import tensorflow as tf      \n",
    "#Solve Equation ==> X ^ 2 + 7 * X + 12 = 0\n",
    "unknowvalue=tf.Variable(0.0)\n",
    "a = tf.constant(7.0)\n",
    "b = tf.constant(12.0)\n",
    "c = tf.multiply(unknown_value,a)\n",
    "d=tf.pow(unknowvalue,2)\n",
    "e = tf.add(c ,d) \n",
    "equation1=tf.add(e,num2)\n",
    "zerovalue=tf.constant(0.0)\n",
    "diff2 = tf.square(equation1 - zerovalue)\n",
    "solving_object1 = tf.compat.v1.train.GradientDescentOptimizer(0.01).minimize(diff2)\n",
    "init2 = tf.compat.v1.global_variables_initializer()\n",
    "with tf.compat.v1.Session() as ss1 :\n",
    "    ss1.run(init2)\n",
    "    for i in range (1000):\n",
    "        ss1.run(solving_object1)\n",
    "    print('The Value Of Solving Is ==> ',ss1.run(unknowvalue))\n",
    "ss1.close()"
   ]
  },
  {
   "attachments": {},
   "cell_type": "markdown",
   "metadata": {},
   "source": [
    "## 4 - Linear Regression With Using GDO By Tensorflow"
   ]
  },
  {
   "cell_type": "code",
   "execution_count": 5,
   "metadata": {},
   "outputs": [
    {
     "name": "stdout",
     "output_type": "stream",
     "text": [
      "The Values Of Linear Regression Model Is ==>  [ 7. 12. 17. 22. 27. 32. 37. 47. 52. 57. 17. 67. 62. 42.]\n",
      "The Value Of Cost Function  Is ==>  14532.0\n",
      "****************************************************************************************************\n",
      "The Best Values By Using GDO Is ==>  [array([-0.17719315], dtype=float32), array([4.915508], dtype=float32)]\n"
     ]
    }
   ],
   "source": [
    "import tensorflow as tf      \n",
    "#x = [0,1,2,3,4,5,6,8,9,10,2,12,11,7]\n",
    "#y = [9,7,5,3,1,-1,5,2,-4,9,5,7,11]\n",
    "w = tf.Variable([5.0],tf.float32)\n",
    "b = tf.Variable([7.0],tf.float32)     \n",
    "with tf.compat.v1.Session() as ss2 :\n",
    "    x =tf.compat.v1.placeholder(tf.float32)\n",
    "    LinearRegressionModel = w * x + b\n",
    "    ss2.run(tf.compat.v1.global_variables_initializer())\n",
    "    print('The Values Of Linear Regression Model Is ==> ',ss2.run(LinearRegressionModel,{x :[0,1,2,3,4,5,6,8,9,10,2,12,11,7]}))\n",
    "    y = tf.compat.v1.placeholder(tf.float32)\n",
    "    squaredDiff = tf.square(LinearRegressionModel - y )\n",
    "    TotalLoss = tf.reduce_sum(squaredDiff)\n",
    "    print('The Value Of Cost Function  Is ==> ' , ss2.run(TotalLoss,{x :[0,1,2,3,4,5,6,8,9,10,2,12],y:[9,7,5,3,1,-1,5,2,-4,9,5,7]}))\n",
    "    print('*****'*20)\n",
    "# Make GDO For To Choose An Optimum Values For  W & B\n",
    "    GDO = tf.compat.v1.train.GradientDescentOptimizer(0.001)\n",
    "    model = GDO.minimize(TotalLoss)\n",
    "    for i in range (10000):\n",
    "        ss2.run(model,{x :[0,1,2,3,4,5,6,8,9,10,2,12],y:[9,7,5,3,1,-1,5,2,-4,9,5,7]})\n",
    "    print('The Best Values By Using GDO Is ==> ',ss2.run([w,b])) \n",
    "ss2.close()   "
   ]
  },
  {
   "cell_type": "code",
   "execution_count": null,
   "metadata": {},
   "outputs": [],
   "source": [
    "from tensorflow.examples.tutorials.mnist import input_data\n",
    "mnist = input_data.read_data_sets(\"MNIST-data\", one_hot=True)"
   ]
  },
  {
   "cell_type": "code",
   "execution_count": 25,
   "metadata": {},
   "outputs": [],
   "source": [
    "import tensorflow as tf\n",
    "sess = tf.compat.v1.InteractiveSession()\n",
    "x  = tf.compat.v1.placeholder(tf.float32 , shape=[None,784])\n",
    "y_ = tf.compat.v1.placeholder(tf.float32 , shape=[None,10])\n",
    "w = tf.Variable(tf.zeros([784,10],tf.float32))\n",
    "b = tf.Variable(tf.zeros([10],tf.float32))\n",
    "sess.run(tf.compat.v1.global_variables_initializer())\n",
    "y = tf.nn.softmax(tf.matmul(x,w) +b)\n",
    "cross_entropy = tf.compat.v1.reduce_mean(-tf.reduce_sum(y_*tf.compat.v1.log(y)))"
   ]
  },
  {
   "cell_type": "code",
   "execution_count": null,
   "metadata": {},
   "outputs": [],
   "source": [
    "train_step = tf.compat.v1.train.GradientDescentOptimizer(0.5).minimize(cross_entropy)\n",
    "for i in range(1000) : \n",
    "    batch = mnist.train.next_batch(50)\n",
    "    train_step.run(feed_dict={x:batch[0] , y_: batch[1]})\n",
    "correct_prediction = tf.equal(tf.argmax(y,1),tf.argmax(y_,1))\n",
    "accuracy = tf.reduce_mean(tf.cast(correct_prediction,tf.float32))\n",
    "acc = accuracy.eval(feed_dict={x: mnist.test.images , y_:mnist.test.labels})*100\n",
    "print('final accuracy is ' , acc)"
   ]
  }
 ],
 "metadata": {
  "kernelspec": {
   "display_name": "Python 3",
   "language": "python",
   "name": "python3"
  },
  "language_info": {
   "codemirror_mode": {
    "name": "ipython",
    "version": 3
   },
   "file_extension": ".py",
   "mimetype": "text/x-python",
   "name": "python",
   "nbconvert_exporter": "python",
   "pygments_lexer": "ipython3",
   "version": "3.10.0"
  },
  "orig_nbformat": 4,
  "vscode": {
   "interpreter": {
    "hash": "f14a256fa5d2abe453c482b40db541c720d938562dda362430172368847a78a4"
   }
  }
 },
 "nbformat": 4,
 "nbformat_minor": 2
}
