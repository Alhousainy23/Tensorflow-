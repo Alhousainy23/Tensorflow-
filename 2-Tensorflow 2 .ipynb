{
 "cells": [
  {
   "attachments": {},
   "cell_type": "markdown",
   "metadata": {},
   "source": [
    "## 1 -  Some Of Operations"
   ]
  },
  {
   "cell_type": "code",
   "execution_count": 1,
   "metadata": {},
   "outputs": [
    {
     "name": "stdout",
     "output_type": "stream",
     "text": [
      "b'Hello People & My Name Is Alhousainy Abdelrahman and I a Deep Learning Engineer &Iam From Qena but I Live at Alexandria & Iam 26 Years Old & I Work At ISFP Comapny'\n",
      "****************************************************************************************************\n",
      "600\n",
      "-10\n",
      "50\n",
      "0.6666666666666666\n",
      "400\n",
      "27000\n",
      "************************************************************************************************************************\n",
      "The Final Result Is ==>  [25 27 28 29]\n",
      "******************************\n",
      "The List 1 Is ==>  [5 7 8 9]\n",
      "The List 2 Is ==>  [10  8 11 15]\n",
      "L1 + L2 Is ==>  [15 15 19 24]\n",
      "L1 * L2 Is ==>  [ 50  56  88 135]\n",
      "L1 - L2 Is ==>  [-5 -1 -3 -6]\n"
     ]
    }
   ],
   "source": [
    "import tensorflow as tf \n",
    "tf.compat.v1.disable_eager_execution()    \n",
    "s1 =tf.constant('Hello People & My Name Is Alhousainy Abdelrahman and I a Deep Learning Engineer &')\n",
    "s2 =tf.constant('Iam From Qena but I Live at Alexandria & Iam 26 Years Old & I Work At ISFP Comapny')\n",
    "result =tf.compat.v1.add(s1,s2)\n",
    "with tf.compat.v1.Session() as ss :\n",
    "    print(ss.run(result))\n",
    "print('**'*50)\n",
    "#Another Examples With Used Numbers \n",
    "num1 = tf.constant(20)\n",
    "num2= tf.constant(30)\n",
    "with tf.compat.v1.Session() as S1:\n",
    "    mult =tf.math.multiply(num1,num2)\n",
    "    sub=tf.subtract(num1,num2)\n",
    "    sum =tf.add(num1,num2)\n",
    "    div=tf.divide(num1,num2)\n",
    "    power1=tf.pow(num1,2)\n",
    "    power2=tf.pow(num2,3)\n",
    "    print(S1.run(mult))\n",
    "    print(S1.run(sub))\n",
    "    print(S1.run(sum))\n",
    "    print(S1.run(div))\n",
    "    print(S1.run(power1))\n",
    "    print(S1.run(power2))\n",
    "S1.close()\n",
    "print('***'*40)\n",
    "#Example 3 \n",
    "L1 =tf.constant([5,7,8,9])\n",
    "L2=tf.constant([10,8,11,15])\n",
    "with tf.compat.v1.Session() as S2:\n",
    "    func1 =tf.add(L1,num1)\n",
    "    print('The Final Result Is ==> ',S2.run(func1))\n",
    "    print('**'*15)\n",
    "    print('The List 1 Is ==> ',S2.run(L1))\n",
    "    print('The List 2 Is ==> ',S2.run(L2))\n",
    "    func2=tf.add(L1,L2)\n",
    "    func3=tf.multiply(L1,L2)\n",
    "    func4=tf.subtract(L1,L2)\n",
    "    print('L1 + L2 Is ==> ',S2.run(func2))\n",
    "    print('L1 * L2 Is ==> ',S2.run(func3))\n",
    "    print('L1 - L2 Is ==> ',S2.run(func4))\n",
    "S2.close()"
   ]
  },
  {
   "attachments": {},
   "cell_type": "markdown",
   "metadata": {},
   "source": [
    "## 2- Matrices Operations"
   ]
  },
  {
   "cell_type": "code",
   "execution_count": 29,
   "metadata": {},
   "outputs": [
    {
     "name": "stdout",
     "output_type": "stream",
     "text": [
      "\t\tThe Matrix 1 Is \n",
      " [[ 5  7  8  9]\n",
      " [10  2  5  3]\n",
      " [ 8  9  6  5]\n",
      " [ 4  3 10 11]]\n",
      "******************************\n",
      "\t\tThe Matrix 2 Is \n",
      " [[ 15  20  30   7]\n",
      " [  4   8   9   6]\n",
      " [  8  14  40 -12]\n",
      " [  7   8   9   5]]\n",
      "******************************\n",
      "\t\tThe Matrix 1 * Matrix 2  Is \n",
      " [[230 340 614  26]\n",
      " [219 310 545  37]\n",
      " [239 356 606  63]\n",
      " [229 332 646 -19]]\n",
      "******************************\n",
      "[[ 5 10  8  4]\n",
      " [ 7  2  9  3]\n",
      " [ 8  5  6 10]\n",
      " [ 9  3  5 11]]\n",
      "******************************\n",
      "[[ 15   4   8   7]\n",
      " [ 20   8  14   8]\n",
      " [ 30   9  40   9]\n",
      " [  7   6 -12   5]]\n"
     ]
    }
   ],
   "source": [
    "#Matrices \n",
    "import tensorflow as tf      \n",
    "tf.compat.v1.disable_eager_execution()\n",
    "Matrix1 = tf.constant([[5,7,8,9],[10,2,5,3],[8,9,6,5],[4,3,10,11]])\n",
    "Matrix2 = tf.constant([[15,20,30,7],[4,8,9,6],[8,14,40,-12],[7,8,9,5]])\n",
    "with tf.compat.v1.Session() as S3 :\n",
    "    product = tf.matmul(Matrix1,Matrix2)\n",
    "    print('\\t\\tThe Matrix 1 Is \\n',S3.run(Matrix1))\n",
    "    print('**'*15)\n",
    "    print('\\t\\tThe Matrix 2 Is \\n',S3.run(Matrix2))\n",
    "    print('**'*15)\n",
    "    print('\\t\\tThe Matrix 1 * Matrix 2  Is \\n',S3.run(product))\n",
    "    print('**'*15)\n",
    "    tm1=tf.linalg.matrix_transpose(Matrix1)\n",
    "    tm2=tf.linalg.matrix_transpose(Matrix2)\n",
    "    print(S3.run(tm1))\n",
    "    print('**'*15)\n",
    "    print(S3.run(tm2))"
   ]
  },
  {
   "attachments": {},
   "cell_type": "markdown",
   "metadata": {},
   "source": [
    "## 3 - Graph"
   ]
  },
  {
   "cell_type": "code",
   "execution_count": 11,
   "metadata": {},
   "outputs": [
    {
     "name": "stdout",
     "output_type": "stream",
     "text": [
      "============================================================\n",
      "Const\n",
      "Const_1\n",
      "Const_2\n",
      "Const_3\n",
      "Add\n",
      "Const_4\n",
      "Const_5\n",
      "Add_1\n",
      "Variable/Initializer/initial_value\n",
      "Variable\n",
      "Variable/IsInitialized/VarIsInitializedOp\n",
      "Variable/Assign\n",
      "Variable/Read/ReadVariableOp\n",
      "Const_6\n",
      "Const_7\n",
      "Add_2\n",
      "Variable_1/Initializer/initial_value\n",
      "Variable_1\n",
      "Variable_1/IsInitialized/VarIsInitializedOp\n",
      "Variable_1/Assign\n",
      "Variable_1/Read/ReadVariableOp\n",
      "Const_8\n",
      "Const_9\n",
      "Add_3\n",
      "init\n",
      "Variable_2/Initializer/initial_value\n",
      "Variable_2\n",
      "Variable_2/IsInitialized/VarIsInitializedOp\n",
      "Variable_2/Assign\n",
      "Variable_2/Read/ReadVariableOp\n",
      "Const_10\n",
      "Const_11\n",
      "Add_4\n",
      "init_1\n",
      "Variable_3/Initializer/initial_value\n",
      "Variable_3\n",
      "Variable_3/IsInitialized/VarIsInitializedOp\n",
      "Variable_3/Assign\n",
      "Variable_3/Read/ReadVariableOp\n",
      "Placeholder\n",
      "Const_12\n",
      "Const_13\n",
      "Add_5\n",
      "init_2\n",
      "Variable_4/Initializer/initial_value\n",
      "Variable_4\n",
      "Variable_4/IsInitialized/VarIsInitializedOp\n",
      "Variable_4/Assign\n",
      "Variable_4/Read/ReadVariableOp\n",
      "Placeholder_1\n",
      "Const_14\n",
      "Const_15\n",
      "Add_6\n",
      "init_3\n",
      "Variable_5/Initializer/initial_value\n",
      "Variable_5\n",
      "Variable_5/IsInitialized/VarIsInitializedOp\n",
      "Variable_5/Assign\n",
      "Variable_5/Read/ReadVariableOp\n",
      "Placeholder_2\n"
     ]
    }
   ],
   "source": [
    "#Graph \n",
    "import tensorflow as tf\n",
    "tf.compat.v1.disable_eager_execution()  \n",
    "#graph =tf.Graph()\n",
    "g =tf.compat.v1.get_default_graph()\n",
    "g.get_operations()\n",
    "num1 = tf.constant(15)\n",
    "num2 = tf.constant(25)\n",
    "g.get_operations() \n",
    "op1 = tf.add(num1,num2)\n",
    "g.get_operations()\n",
    "sess=tf.compat.v1.keras.backend.get_session()\n",
    "sess.run(tf.compat.v1.global_variables_initializer())\n",
    "num3 =tf.Variable(20)\n",
    "num4 = tf.compat.v1.placeholder(tf.float32)\n",
    "g.get_operations()\n",
    "print('=='*30)\n",
    "#To Know Names Of Operation In Gragh\n",
    "for operation in g.get_operations():\n",
    "    print(operation.name)"
   ]
  },
  {
   "cell_type": "code",
   "execution_count": null,
   "metadata": {},
   "outputs": [],
   "source": [
    "#Final Type Eager_Execution \n"
   ]
  }
 ],
 "metadata": {
  "kernelspec": {
   "display_name": "Python 3",
   "language": "python",
   "name": "python3"
  },
  "language_info": {
   "codemirror_mode": {
    "name": "ipython",
    "version": 3
   },
   "file_extension": ".py",
   "mimetype": "text/x-python",
   "name": "python",
   "nbconvert_exporter": "python",
   "pygments_lexer": "ipython3",
   "version": "3.10.0"
  },
  "orig_nbformat": 4,
  "vscode": {
   "interpreter": {
    "hash": "f14a256fa5d2abe453c482b40db541c720d938562dda362430172368847a78a4"
   }
  }
 },
 "nbformat": 4,
 "nbformat_minor": 2
}
