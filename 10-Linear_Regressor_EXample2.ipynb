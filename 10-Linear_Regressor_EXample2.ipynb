{
  "nbformat": 4,
  "nbformat_minor": 0,
  "metadata": {
    "colab": {
      "provenance": []
    },
    "kernelspec": {
      "name": "python3",
      "display_name": "Python 3"
    },
    "language_info": {
      "name": "python"
    }
  },
  "cells": [
    {
      "cell_type": "markdown",
      "source": [
        "## 1- Imported Needed Libraries"
      ],
      "metadata": {
        "id": "pU5ycvQI0TAJ"
      }
    },
    {
      "cell_type": "code",
      "execution_count": 1,
      "metadata": {
        "id": "8dEMamCg0HGF"
      },
      "outputs": [],
      "source": [
        "import pandas as pd\n",
        "import numpy as np\n",
        "import tensorflow as tf\n",
        "import itertools"
      ]
    },
    {
      "cell_type": "markdown",
      "source": [
        "## 2- Reading Data "
      ],
      "metadata": {
        "id": "w-1nDBqP0Xsv"
      }
    },
    {
      "cell_type": "code",
      "source": [
        "training_set_n = pd.read_csv(\"boston_train.csv\").values\n",
        "test_set_n = pd.read_csv(\"boston_test.csv\").values\n",
        "prediction_set_n = pd.read_csv(\"boston_predict.csv\").values\n",
        "np.round (training_set_n[:5])"
      ],
      "metadata": {
        "colab": {
          "base_uri": "https://localhost:8080/"
        },
        "id": "kfmXE4BJ0W6G",
        "outputId": "f45e2639-aeb6-4c25-8fd5-2d700d84fe6b"
      },
      "execution_count": 2,
      "outputs": [
        {
          "output_type": "execute_result",
          "data": {
            "text/plain": [
              "array([[  2.,   0.,  20.,   1.,   6.,  96.,   2., 403.,  15.,  24.,  nan,\n",
              "         nan],\n",
              "       [ 13.,   0.,  18.,   1.,   6.,  95.,   2., 666.,  20.,  13.,  nan,\n",
              "         nan],\n",
              "       [  0.,   0.,   7.,   0.,   7.,   3.,   6., 233.,  18.,  27.,  nan,\n",
              "         nan],\n",
              "       [  0.,   0.,  11.,   0.,   6.,  18.,   5., 305.,  19.,  22.,  nan,\n",
              "         nan],\n",
              "       [  0.,  80.,   2.,   0.,   7.,  38.,   7., 329.,  13.,  35.,  nan,\n",
              "         nan]])"
            ]
          },
          "metadata": {},
          "execution_count": 2
        }
      ]
    },
    {
      "cell_type": "markdown",
      "source": [
        "## 3  - Prepare Data & Create Object\n",
        "## 3.1- Make Training For Object"
      ],
      "metadata": {
        "id": "MD2M5lhI0gwS"
      }
    },
    {
      "cell_type": "code",
      "source": [
        "def prepare_data(df):     \n",
        "        X_train = df[:, :-3]    \n",
        "        y_train = df[:,-3]    \n",
        "        return X_train, y_train\t\n",
        "X_train, y_train = prepare_data(training_set_n)\n",
        "X_test, y_test = prepare_data(test_set_n)\t\n",
        "x_predict = prediction_set_n[:, :-2]\t\t\t\n",
        "print(X_train.shape, y_train.shape, x_predict.shape)\t\t\t\n",
        "feature_columns = [tf.feature_column.numeric_column('x',shape=X_train.shape[1:])]\t\n",
        "print('==='*30)\n",
        "estimator = tf.compat.v1.estimator.LinearRegressor(feature_columns=feature_columns,model_dir=\"train1\")\n",
        "# Train the estimator\n",
        "train_input = tf.compat.v1.estimator.inputs.numpy_input_fn(x={\"x\": X_train},y=y_train,batch_size=128,shuffle=False,num_epochs=None)\t\n",
        "estimator.train(input_fn = train_input,steps=5000) \t\t"
      ],
      "metadata": {
        "colab": {
          "base_uri": "https://localhost:8080/"
        },
        "id": "Lsa1Mg-X0fFp",
        "outputId": "fee77080-8a04-476e-f1fd-d7a8cf2d180a"
      },
      "execution_count": 7,
      "outputs": [
        {
          "output_type": "stream",
          "name": "stderr",
          "text": [
            "WARNING:tensorflow:From /usr/local/lib/python3.8/dist-packages/tensorflow/python/training/training_util.py:396: Variable.initialized_value (from tensorflow.python.ops.variables) is deprecated and will be removed in a future version.\n",
            "Instructions for updating:\n",
            "Use Variable.read_value. Variables in 2.X are initialized automatically both in eager and graph (inside tf.defun) contexts.\n"
          ]
        },
        {
          "output_type": "stream",
          "name": "stdout",
          "text": [
            "(400, 9) (400,) (6, 9)\n",
            "==========================================================================================\n"
          ]
        },
        {
          "output_type": "stream",
          "name": "stderr",
          "text": [
            "WARNING:tensorflow:From /usr/local/lib/python3.8/dist-packages/tensorflow_estimator/python/estimator/inputs/queues/feeding_queue_runner.py:60: QueueRunner.__init__ (from tensorflow.python.training.queue_runner_impl) is deprecated and will be removed in a future version.\n",
            "Instructions for updating:\n",
            "To construct input pipelines, use the `tf.data` module.\n",
            "WARNING:tensorflow:From /usr/local/lib/python3.8/dist-packages/tensorflow_estimator/python/estimator/inputs/queues/feeding_functions.py:491: add_queue_runner (from tensorflow.python.training.queue_runner_impl) is deprecated and will be removed in a future version.\n",
            "Instructions for updating:\n",
            "To construct input pipelines, use the `tf.data` module.\n",
            "WARNING:tensorflow:From /usr/local/lib/python3.8/dist-packages/tensorflow/python/training/monitored_session.py:910: start_queue_runners (from tensorflow.python.training.queue_runner_impl) is deprecated and will be removed in a future version.\n",
            "Instructions for updating:\n",
            "To construct input pipelines, use the `tf.data` module.\n",
            "WARNING:tensorflow:It seems that global step (tf.train.get_global_step) has not been increased. Current value (could be stable): 2 vs previous value: 2. You could increase the global step by passing tf.train.get_global_step() to Optimizer.apply_gradients or Optimizer.minimize.\n",
            "WARNING:tensorflow:It seems that global step (tf.train.get_global_step) has not been increased. Current value (could be stable): 13 vs previous value: 13. You could increase the global step by passing tf.train.get_global_step() to Optimizer.apply_gradients or Optimizer.minimize.\n",
            "WARNING:tensorflow:It seems that global step (tf.train.get_global_step) has not been increased. Current value (could be stable): 15 vs previous value: 15. You could increase the global step by passing tf.train.get_global_step() to Optimizer.apply_gradients or Optimizer.minimize.\n",
            "WARNING:tensorflow:It seems that global step (tf.train.get_global_step) has not been increased. Current value (could be stable): 28 vs previous value: 28. You could increase the global step by passing tf.train.get_global_step() to Optimizer.apply_gradients or Optimizer.minimize.\n",
            "WARNING:tensorflow:It seems that global step (tf.train.get_global_step) has not been increased. Current value (could be stable): 39 vs previous value: 39. You could increase the global step by passing tf.train.get_global_step() to Optimizer.apply_gradients or Optimizer.minimize.\n"
          ]
        },
        {
          "output_type": "execute_result",
          "data": {
            "text/plain": [
              "<tensorflow_estimator.python.estimator.canned.linear.LinearRegressor at 0x7fabb0a0b940>"
            ]
          },
          "metadata": {},
          "execution_count": 7
        }
      ]
    },
    {
      "cell_type": "markdown",
      "source": [
        "## 4-Evluation Data\n",
        "## 4.1- Evluation Value\n",
        "## 5- Predictions"
      ],
      "metadata": {
        "id": "tqtm_XYV1YWJ"
      }
    },
    {
      "cell_type": "code",
      "source": [
        "eval_input = tf.compat.v1.estimator.inputs.numpy_input_fn(x={\"x\": X_test},y=y_test,shuffle=False,batch_size=128,num_epochs=1)\n",
        "estimator.evaluate(eval_input,steps=None)\n",
        "test_input = tf.compat.v1.estimator.inputs.numpy_input_fn(x={\"x\": x_predict},batch_size=128,num_epochs=1,shuffle=False)\n",
        "y = estimator.predict(test_input) \t\t\t\n",
        "predictions = list(p[\"predictions\"] for p in itertools.islice(y, 6))\n",
        "print(\"Predictions: {}\".format(str(predictions)))"
      ],
      "metadata": {
        "colab": {
          "base_uri": "https://localhost:8080/"
        },
        "id": "htm_ZI1Y0nQz",
        "outputId": "20a8ee45-6c70-4c59-8708-587017831467"
      },
      "execution_count": 10,
      "outputs": [
        {
          "output_type": "stream",
          "name": "stdout",
          "text": [
            "Predictions: [array([35.231083], dtype=float32), array([19.068829], dtype=float32), array([24.466225], dtype=float32), array([33.78768], dtype=float32), array([14.434946], dtype=float32), array([20.162888], dtype=float32)]\n"
          ]
        }
      ]
    },
    {
      "cell_type": "code",
      "source": [],
      "metadata": {
        "id": "PrEbhv5j2Awk"
      },
      "execution_count": null,
      "outputs": []
    }
  ]
}