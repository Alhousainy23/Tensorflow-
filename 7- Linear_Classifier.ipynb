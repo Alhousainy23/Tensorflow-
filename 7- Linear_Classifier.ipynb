{
  "cells": [
    {
      "attachments": {},
      "cell_type": "markdown",
      "metadata": {
        "id": "9C-Cnevw-RLs"
      },
      "source": [
        "## 1- First Read Data And Detect Cols Names"
      ]
    },
    {
      "cell_type": "code",
      "execution_count": 1,
      "metadata": {
        "colab": {
          "base_uri": "https://localhost:8080/"
        },
        "id": "FelySpGn8o3e",
        "outputId": "bc31ac4c-0926-459b-cc31-92415ae2ddc7"
      },
      "outputs": [
        {
          "name": "stdout",
          "output_type": "stream",
          "text": [
            "\t\t The First 5 Rows From Data Are : \n",
            "    age          workclass   education  education_num       marital_status  \\\n",
            "0   39          State-gov   Bachelors             13        Never-married   \n",
            "1   50   Self-emp-not-inc   Bachelors             13   Married-civ-spouse   \n",
            "2   38            Private     HS-grad              9             Divorced   \n",
            "3   53            Private        11th              7   Married-civ-spouse   \n",
            "4   28            Private   Bachelors             13   Married-civ-spouse   \n",
            "\n",
            "           occupation    relationship    race   gender  capital_gain  \\\n",
            "0        Adm-clerical   Not-in-family   White     Male          2174   \n",
            "1     Exec-managerial         Husband   White     Male             0   \n",
            "2   Handlers-cleaners   Not-in-family   White     Male             0   \n",
            "3   Handlers-cleaners         Husband   Black     Male             0   \n",
            "4      Prof-specialty            Wife   Black   Female             0   \n",
            "\n",
            "   capital_loss  hours_per_week  native_country income_bracket  \n",
            "0             0              40   United-States          <=50K  \n",
            "1             0              13   United-States          <=50K  \n",
            "2             0              40   United-States          <=50K  \n",
            "3             0              40   United-States          <=50K  \n",
            "4             0              40            Cuba          <=50K  \n"
          ]
        }
      ],
      "source": [
        "#Imported Needed Libraries\n",
        "import tensorflow as tf \n",
        "import pandas as pd \n",
        "#==============================\n",
        "#2-  Read Data \n",
        "cenus = pd.read_csv('0.csv',skiprows=1,header=None)\n",
        "#Columns Names \n",
        "cenus.columns =['age','workclass','education','education_num','marital_status','occupation','relationship',\n",
        "                'race','gender','capital_gain','capital_loss',\n",
        "                'hours_per_week','native_country','income_bracket']\n",
        "#Show 5 Rows From Data \n",
        "print('\\t\\t The First 5 Rows From Data Are : \\n',cenus.head())"
      ]
    },
    {
      "cell_type": "markdown",
      "metadata": {
        "id": "lgKh_Ova-gOz"
      },
      "source": [
        "## 2- I Need To Know Unique Values In Output "
      ]
    },
    {
      "cell_type": "code",
      "execution_count": 2,
      "metadata": {
        "colab": {
          "base_uri": "https://localhost:8080/"
        },
        "id": "LNZ0E4mn9Mod",
        "outputId": "af81f089-4e3c-46b6-8612-0d412686ccc4"
      },
      "outputs": [
        {
          "name": "stdout",
          "output_type": "stream",
          "text": [
            "The Unique Values In Output Is ==>  [' <=50K' ' >50K']\n",
            "The Unique Values In Output Is ==>  [0 1]\n"
          ]
        }
      ],
      "source": [
        "print('The Unique Values In Output Is ==> ',cenus['income_bracket'].unique())\n",
        "#The Unique Values In Output Is ==>  [' <=50K' ' >50K']\n",
        "# Make Function To Change [' <=50K' ' >50K'] To ==> [0    1]\n",
        "def label_fix(label):\n",
        "    if label == ' <=50K' : return 0 \n",
        "    else : return 1 \n",
        "#=============================================================\n",
        "cenus['income_bracket'] = cenus['income_bracket'].apply(label_fix)\n",
        "print('The Unique Values In Output Is ==> ',cenus['income_bracket'].unique())# The Unique Values In Output Is ==>  [0 1]\n"
      ]
    },
    {
      "cell_type": "markdown",
      "metadata": {
        "id": "XafeccTw-ofm"
      },
      "source": [
        "## 3- Call Sklearn Becuase Make Splitting Data "
      ]
    },
    {
      "cell_type": "code",
      "execution_count": 3,
      "metadata": {
        "id": "dgoByhFA9R5L"
      },
      "outputs": [],
      "source": [
        "from sklearn.model_selection import train_test_split\n",
        "x_data = cenus.drop('income_bracket',axis=1)\n",
        "y_labels = cenus['income_bracket']\n",
        "X_train,X_test,y_train,y_test = train_test_split(x_data,y_labels,test_size=0.3,random_state=101)"
      ]
    },
    {
      "cell_type": "markdown",
      "metadata": {
        "id": "zPbh5Xor-5mn"
      },
      "source": [
        "## 4- Make Processing Estimators Using Tensorflow For Data"
      ]
    },
    {
      "cell_type": "code",
      "execution_count": 4,
      "metadata": {
        "id": "4ICzJQbc9UCc"
      },
      "outputs": [],
      "source": [
        "# 1- First Make Processing For Numerical Estimators \n",
        "age = tf.feature_column.numeric_column(\"age\")\n",
        "education_num = tf.feature_column.numeric_column(\"education_num\")\n",
        "capital_gain = tf.feature_column.numeric_column(\"capital_gain\")\n",
        "capital_loss = tf.feature_column.numeric_column(\"capital_loss\")\n",
        "hours_per_week = tf.feature_column.numeric_column(\"hours_per_week\")\n",
        "#2- Second Make Processing For categorical_column_with_vocabulary_list\n",
        "gender = tf.feature_column.categorical_column_with_vocabulary_list(\"gender\", [\"Female\", \"Male\"])\n",
        "#2- Third Make Processing For categorical_column_with_hash_bucket\n",
        "occupation = tf.feature_column.categorical_column_with_hash_bucket(\"occupation\", hash_bucket_size=1000)\n",
        "marital_status = tf.feature_column.categorical_column_with_hash_bucket(\"marital_status\", hash_bucket_size=1000)\n",
        "relationship = tf.feature_column.categorical_column_with_hash_bucket(\"relationship\", hash_bucket_size=1000)\n",
        "education = tf.feature_column.categorical_column_with_hash_bucket(\"education\", hash_bucket_size=1000)\n",
        "workclass = tf.feature_column.categorical_column_with_hash_bucket(\"workclass\", hash_bucket_size=1000)\n",
        "native_country = tf.feature_column.categorical_column_with_hash_bucket(\"native_country\", hash_bucket_size=1000)"
      ]
    },
    {
      "cell_type": "markdown",
      "metadata": {
        "id": "D0DKO6ea_BsZ"
      },
      "source": [
        "## 5 - Create Inputs Function "
      ]
    },
    {
      "cell_type": "code",
      "execution_count": 9,
      "metadata": {
        "colab": {
          "base_uri": "https://localhost:8080/"
        },
        "id": "UqrbOaOM9XBV",
        "outputId": "a5270ec9-73ee-4d06-9ad8-f947b056324f"
      },
      "outputs": [
        {
          "name": "stderr",
          "output_type": "stream",
          "text": [
            "WARNING:tensorflow:Using temporary folder as model directory: /tmp/tmptivgiknj\n"
          ]
        }
      ],
      "source": [
        "feat_cols = [gender,occupation,marital_status,relationship,education,workclass,native_country, age,education_num,capital_gain,capital_loss,hours_per_week]\n",
        "input_func=tf.compat.v1.estimator.inputs.pandas_input_fn(x=X_train,y=y_train,batch_size=100,num_epochs=None,shuffle=True)\n",
        "#input_func=tf.estimator.inputs(x=X_train,y=y_train,batch_size=100,num_epochs=None,shuffle=True)\n",
        "model = tf.estimator.LinearClassifier(feature_columns=feat_cols)"
      ]
    },
    {
      "cell_type": "markdown",
      "metadata": {
        "id": "PMkG_IkX_f8j"
      },
      "source": [
        "## 6 - Enter Model To Training (1000 Iterations)"
      ]
    },
    {
      "cell_type": "code",
      "execution_count": 11,
      "metadata": {
        "colab": {
          "base_uri": "https://localhost:8080/"
        },
        "id": "-NVf2tyK9fUK",
        "outputId": "7d246392-1495-4254-b3ca-09b7985f36c7"
      },
      "outputs": [
        {
          "name": "stderr",
          "output_type": "stream",
          "text": [
            "WARNING:tensorflow:From /usr/local/lib/python3.8/dist-packages/tensorflow/python/training/saver.py:1173: get_checkpoint_mtimes (from tensorflow.python.checkpoint.checkpoint_management) is deprecated and will be removed in a future version.\n",
            "Instructions for updating:\n",
            "Use standard file utilities to get mtimes.\n"
          ]
        },
        {
          "name": "stdout",
          "output_type": "stream",
          "text": [
            "The Model Training Is ==>  <tensorflow_estimator.python.estimator.canned.linear.LinearClassifierV2 object at 0x7f7bf6690520>\n"
          ]
        }
      ],
      "source": [
        "print('The Model Training Is ==> ',model.train(input_fn=input_func,steps = 1000))"
      ]
    },
    {
      "cell_type": "markdown",
      "metadata": {
        "id": "53TKgpQ5AkJe"
      },
      "source": [
        "## 7- Make Predictions "
      ]
    },
    {
      "cell_type": "code",
      "execution_count": 13,
      "metadata": {
        "colab": {
          "base_uri": "https://localhost:8080/"
        },
        "id": "vg0T9q49_mZX",
        "outputId": "657beb67-5301-438b-e6d0-a3a868c77f91"
      },
      "outputs": [
        {
          "name": "stdout",
          "output_type": "stream",
          "text": [
            "              precision    recall  f1-score   support\n",
            "\n",
            "           0       0.89      0.91      0.90      7436\n",
            "           1       0.68      0.63      0.66      2333\n",
            "\n",
            "    accuracy                           0.84      9769\n",
            "   macro avg       0.79      0.77      0.78      9769\n",
            "weighted avg       0.84      0.84      0.84      9769\n",
            "\n"
          ]
        }
      ],
      "source": [
        "pred_fn = tf.compat.v1.estimator.inputs.pandas_input_fn(x=X_test,batch_size=len(X_test),shuffle=False)\n",
        "predictions = list(model.predict(input_fn=pred_fn))\n",
        "\n",
        "final_preds = []\n",
        "for pred in predictions:\n",
        "    final_preds.append(pred['class_ids'][0])\n",
        "\n",
        "from sklearn.metrics import classification_report\n",
        "print(classification_report(y_test,final_preds))"
      ]
    },
    {
      "cell_type": "markdown",
      "metadata": {
        "id": "w3TO3Ty2BKVj"
      },
      "source": [
        "## 8- Plotting Data"
      ]
    },
    {
      "cell_type": "code",
      "execution_count": 14,
      "metadata": {
        "colab": {
          "base_uri": "https://localhost:8080/",
          "height": 564
        },
        "id": "zSxxjVHmAqbB",
        "outputId": "9f536c12-337d-4a2e-a7fe-86f776c464fd"
      },
      "outputs": [
        {
          "name": "stdout",
          "output_type": "stream",
          "text": [
            "ROC AUC Score: 0.7693761446440401\n"
          ]
        },
        {
          "data": {
            "image/png": "[encoded data removed]",
            "text/plain": [
              "<Figure size 432x288 with 1 Axes>"
            ]
          },
          "metadata": {},
          "output_type": "display_data"
        },
        {
          "data": {
            "image/png": "[encoded data removed]",
            "text/plain": [
              "<Figure size 432x288 with 1 Axes>"
            ]
          },
          "metadata": {},
          "output_type": "display_data"
        }
      ],
      "source": [
        "import matplotlib.pyplot as plt\n",
        "%matplotlib inline\n",
        "plt.style.use('ggplot')\n",
        "ax=plt.axes()\n",
        "from sklearn.metrics import roc_curve, auc\n",
        "fpr, tpr, thresholds = roc_curve(y_test,final_preds)\n",
        "roc_auc = auc(fpr, tpr)\n",
        "print(\"ROC AUC Score: {}\".format(roc_auc))\n",
        "plt.figure()\n",
        "plt.plot(fpr, tpr, color='green', lw=1, label='ROC curve (area = %0.2f)' % roc_auc)\n",
        "plt.plot([0, 1], [0, 1], color='navy', linestyle='--')\n",
        "plt.xlim([0.0, 1.0])\n",
        "plt.ylim([0.0, 1.05])\n",
        "ax.set(xlabel='False Positive Rate',ylabel='True Positive Rate',title='Receiver operating characteristic')\n",
        "plt.legend(loc=\"lower right\")\n",
        "plt.show()"
      ]
    }
  ],
  "metadata": {
    "colab": {
      "provenance": []
    },
    "kernelspec": {
      "display_name": "Python 3",
      "language": "python",
      "name": "python3"
    },
    "language_info": {
      "name": "python",
      "version": "3.10.0"
    },
    "vscode": {
      "interpreter": {
        "hash": "f14a256fa5d2abe453c482b40db541c720d938562dda362430172368847a78a4"
      }
    }
  },
  "nbformat": 4,
  "nbformat_minor": 0
}
